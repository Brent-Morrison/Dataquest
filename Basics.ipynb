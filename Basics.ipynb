{
 "cells": [
  {
   "cell_type": "markdown",
   "metadata": {
    "collapsed": true
   },
   "source": [
    "# App download analysis\n",
    "This notebook will document an analysis of two app download data sets. The data sets are lists of apps from both the Apple and Android online stores.\n",
    "\n",
    "## Goals\n",
    "The goal of this analysis is to determining what type of apps are likely to attract the most users.\n",
    "\n",
    "### Background\n",
    "This notebook is being prepared to satisfy the Dataquest \"Python - Data Science Fundamentals\" course.  Quoting of page numbers references the location of the project requirements."
   ]
  },
  {
   "cell_type": "markdown",
   "metadata": {},
   "source": [
    "###### *Ref. page 2*\n",
    "\n",
    "The first step is to load the supplied data.\n",
    "\n",
    "The cell below does this and also creates the supplied \"explore_data\" function.  "
   ]
  },
  {
   "cell_type": "code",
   "execution_count": 1,
   "metadata": {
    "collapsed": false
   },
   "outputs": [],
   "source": [
    "# Library requirements\n",
    "import csv\n",
    "\n",
    "# Import data\n",
    "apple_opened = open('AppleStore.csv')\n",
    "google_opened = open('googleplaystore.csv')\n",
    "\n",
    "apple = list(csv.reader(apple_opened))\n",
    "google = list(csv.reader(google_opened))\n",
    "\n",
    "# Initialise explore_data function\n",
    "def explore_data(dataset, start, end, rows_and_columns=False):\n",
    "    dataset_slice = dataset[start:end]    \n",
    "    for row in dataset_slice:\n",
    "        print(row)\n",
    "        print('\\n') # adds a new (empty) line after each row\n",
    "\n",
    "    if rows_and_columns:\n",
    "        print('Number of rows:', len(dataset))\n",
    "        print('Number of columns:', len(dataset[0]))\n"
   ]
  },
  {
   "cell_type": "code",
   "execution_count": 2,
   "metadata": {
    "collapsed": false
   },
   "outputs": [
    {
     "name": "stdout",
     "output_type": "stream",
     "text": [
      "['id', 'track_name', 'size_bytes', 'currency', 'price', 'rating_count_tot', 'rating_count_ver', 'user_rating', 'user_rating_ver', 'ver', 'cont_rating', 'prime_genre', 'sup_devices.num', 'ipadSc_urls.num', 'lang.num', 'vpp_lic']\n",
      "\n",
      "\n",
      "['284882215', 'Facebook', '389879808', 'USD', '0.0', '2974676', '212', '3.5', '3.5', '95.0', '4+', 'Social Networking', '37', '1', '29', '1']\n",
      "\n",
      "\n",
      "['389801252', 'Instagram', '113954816', 'USD', '0.0', '2161558', '1289', '4.5', '4.0', '10.23', '12+', 'Photo & Video', '37', '0', '29', '1']\n",
      "\n",
      "\n",
      "Number of rows: 7198\n",
      "Number of columns: 16\n"
     ]
    }
   ],
   "source": [
    "# Explore data - Apple store\n",
    "explore_data(apple, 0, 3, \"TRUE\")"
   ]
  },
  {
   "cell_type": "markdown",
   "metadata": {},
   "source": [
    "The Apple data has 7,197 records excluding the header.\n",
    "\n",
    "Let's review the attributes and take a guess at those that may help in our goal of determining what type of apps are likely to attract more users.  \n",
    "\n",
    "`track_name` is the name of the app.  Initial inspection would suggest `user_rating`, `rating_count_tot` and the `prime_genre` are useful as these attributes measure user feedback.\n",
    "\n",
    "Moving on to the Google data."
   ]
  },
  {
   "cell_type": "code",
   "execution_count": 3,
   "metadata": {
    "collapsed": false
   },
   "outputs": [
    {
     "name": "stdout",
     "output_type": "stream",
     "text": [
      "['App', 'Category', 'Rating', 'Reviews', 'Size', 'Installs', 'Type', 'Price', 'Content Rating', 'Genres', 'Last Updated', 'Current Ver', 'Android Ver']\n",
      "\n",
      "\n",
      "['Photo Editor & Candy Camera & Grid & ScrapBook', 'ART_AND_DESIGN', '4.1', '159', '19M', '10,000+', 'Free', '0', 'Everyone', 'Art & Design', 'January 7, 2018', '1.0.0', '4.0.3 and up']\n",
      "\n",
      "\n",
      "['Coloring book moana', 'ART_AND_DESIGN', '3.9', '967', '14M', '500,000+', 'Free', '0', 'Everyone', 'Art & Design;Pretend Play', 'January 15, 2018', '2.0.0', '4.0.3 and up']\n",
      "\n",
      "\n",
      "Number of rows: 10842\n",
      "Number of columns: 13\n"
     ]
    }
   ],
   "source": [
    "# Explore data - Google play\n",
    "explore_data(google, 0, 3, \"TRUE\")"
   ]
  },
  {
   "cell_type": "markdown",
   "metadata": {},
   "source": [
    "The Google data has 10,841 records excluding the header.  The Google data has 16 attributes, three less than the Apple data set.\n",
    "\n",
    "What attributes may be useful for determining user attractiveness?   All attributes bar `Type` (this can be inferred from `Price`) and `Size` appear to be relevent."
   ]
  },
  {
   "cell_type": "markdown",
   "metadata": {
    "collapsed": true
   },
   "source": [
    "###### *Ref. page 3*\n",
    "## Data errors\n",
    "We have been informed ([link](https://www.kaggle.com/lava18/google-play-store-apps/discussion/66015)) that some data may be incorrect.  Row 10473  of the Google data is the suspect.  It is claimed the `Rating` column is missing. Let's have a look."
   ]
  },
  {
   "cell_type": "code",
   "execution_count": 4,
   "metadata": {
    "collapsed": false
   },
   "outputs": [
    {
     "name": "stdout",
     "output_type": "stream",
     "text": [
      "['App', 'Category', 'Rating', 'Reviews', 'Size', 'Installs', 'Type', 'Price', 'Content Rating', 'Genres', 'Last Updated', 'Current Ver', 'Android Ver']\n",
      "\n",
      "\n",
      "['Life Made WI-Fi Touchscreen Photo Frame', '1.9', '19', '3.0M', '1,000+', 'Free', '0', 'Everyone', '', 'February 11, 2018', '1.0.19', '4.0 and up']\n",
      "\n",
      "\n"
     ]
    }
   ],
   "source": [
    "# Extract row 10473 - Google play\n",
    "explore_data(google, 0, 1)\n",
    "explore_data(google, 10473, 10474)"
   ]
  },
  {
   "cell_type": "markdown",
   "metadata": {},
   "source": [
    "Let's double check the length of row 10473."
   ]
  },
  {
   "cell_type": "code",
   "execution_count": 5,
   "metadata": {
    "collapsed": false
   },
   "outputs": [
    {
     "data": {
      "text/plain": [
       "12"
      ]
     },
     "execution_count": 5,
     "metadata": {},
     "output_type": "execute_result"
    }
   ],
   "source": [
    "# Length of suspect row\n",
    "len(google[10473:10474][0])"
   ]
  },
  {
   "cell_type": "code",
   "execution_count": 6,
   "metadata": {
    "collapsed": false
   },
   "outputs": [
    {
     "data": {
      "text/plain": [
       "10841"
      ]
     },
     "execution_count": 6,
     "metadata": {},
     "output_type": "execute_result"
    }
   ],
   "source": [
    "# OK, 12 is not 13. Let's remove it....\n",
    "del google[10473]\n",
    "\n",
    "# ...and check the length of the resultant list\n",
    "len(google)"
   ]
  },
  {
   "cell_type": "markdown",
   "metadata": {},
   "source": [
    "That looks good.  One less than our original list.\n",
    "\n",
    "Moving onto the App Store data, this [link](https://www.kaggle.com/ramamet4/app-store-apple-data-set-10k-apps/discussion/90680) finds an extra column containing an empty string.  Looking back to our initial \"explore_data\" extract, this is not occuring in our data.  Since this is not an issue we will move on."
   ]
  },
  {
   "cell_type": "markdown",
   "metadata": {},
   "source": [
    "###### *Ref. page 4*\n",
    "## Additional data cleaning\n",
    "In the next block of code, we will look for duplicates across app name in the Google data set. This code loops through the list of apps and populates a \"dupes\" list should an app occur more than once."
   ]
  },
  {
   "cell_type": "code",
   "execution_count": 7,
   "metadata": {
    "collapsed": false,
    "scrolled": false
   },
   "outputs": [
    {
     "name": "stdout",
     "output_type": "stream",
     "text": [
      "Number of unique : 9660\n",
      "\n",
      "\n",
      "Number of duplicates : 1181\n",
      "\n",
      "\n",
      "First 10 duplicates ; ['Quick PDF Scanner + OCR FREE', 'Box', 'Google My Business', 'ZOOM Cloud Meetings', 'join.me - Simple Meetings', 'Box', 'Zenefits', 'Google Ads', 'Google My Business', 'Slack']\n"
     ]
    }
   ],
   "source": [
    "dupes = []\n",
    "unique = []\n",
    "\n",
    "for i in google:\n",
    "    app_name = i[0]\n",
    "    if app_name in unique:\n",
    "        dupes.append(app_name)\n",
    "    else:\n",
    "        unique.append(app_name)\n",
    "\n",
    "print('Number of unique :', len(unique))\n",
    "print('\\n')\n",
    "print('Number of duplicates :', len(dupes))\n",
    "print('\\n')\n",
    "print('First 10 duplicates ;', dupes[:10])"
   ]
  },
  {
   "cell_type": "markdown",
   "metadata": {},
   "source": [
    "Let's take a look at the duplicates for the first app returned, 'Quick PDF Scanner + OCR FREE'."
   ]
  },
  {
   "cell_type": "code",
   "execution_count": 8,
   "metadata": {
    "collapsed": false
   },
   "outputs": [
    {
     "name": "stdout",
     "output_type": "stream",
     "text": [
      "[['App', 'Category', 'Rating', 'Reviews', 'Size', 'Installs', 'Type', 'Price', 'Content Rating', 'Genres', 'Last Updated', 'Current Ver', 'Android Ver']]\n",
      "\n",
      "\n",
      "['Quick PDF Scanner + OCR FREE', 'BUSINESS', '4.2', '80805', 'Varies with device', '5,000,000+', 'Free', '0', 'Everyone', 'Business', 'February 26, 2018', 'Varies with device', '4.0.3 and up']\n",
      "\n",
      "\n",
      "['Quick PDF Scanner + OCR FREE', 'BUSINESS', '4.2', '80805', 'Varies with device', '5,000,000+', 'Free', '0', 'Everyone', 'Business', 'February 26, 2018', 'Varies with device', '4.0.3 and up']\n",
      "\n",
      "\n",
      "['Quick PDF Scanner + OCR FREE', 'BUSINESS', '4.2', '80804', 'Varies with device', '5,000,000+', 'Free', '0', 'Everyone', 'Business', 'February 26, 2018', 'Varies with device', '4.0.3 and up']\n"
     ]
    }
   ],
   "source": [
    "print(google[0:1])\n",
    "\n",
    "for i in google:\n",
    "    app_name = i[0]\n",
    "    if app_name == 'Quick PDF Scanner + OCR FREE':\n",
    "        print('\\n')\n",
    "        print(i)"
   ]
  },
  {
   "cell_type": "markdown",
   "metadata": {},
   "source": [
    "There are 3 records of this App being returned.  The first two are identical across attributes while the third has one less review."
   ]
  },
  {
   "cell_type": "markdown",
   "metadata": {},
   "source": [
    "###### *Ref. page 5*\n",
    "\n",
    "### Removal of duplicates\n",
    "\n",
    "We want to keep the most recent records since these are most relevant to our analysis. We will thus delete the records containing the lowest number of reviews.  By definition, these must be older data records. In the case of ties as in the example above, we will remove on a random basis as there is no impact on the resultant data set.\n",
    "\n",
    "The cell below loops through the Google data set and places apps into the `reviews_max` dictionary if they are unique.  If they are not unique, the record with the most reviews is added to `reviews_max`."
   ]
  },
  {
   "cell_type": "code",
   "execution_count": 9,
   "metadata": {
    "collapsed": false
   },
   "outputs": [],
   "source": [
    "# Create dictionary\n",
    "reviews_max = {}\n",
    "\n",
    "# Loop through list to capture max reviews\n",
    "for i in google[1:]:\n",
    "    name = i[0]\n",
    "    n_reviews = float(i[3])\n",
    "    if name in reviews_max and reviews_max[name] < n_reviews:\n",
    "        reviews_max[name] = n_reviews\n",
    "    if name not in reviews_max:\n",
    "        reviews_max[name] = n_reviews\n",
    "\n",
    "#print(reviews_max)"
   ]
  },
  {
   "cell_type": "markdown",
   "metadata": {
    "collapsed": false
   },
   "source": [
    "Let's see if the duplicate identified above has been returned with the correct value assigned to \"max review\""
   ]
  },
  {
   "cell_type": "code",
   "execution_count": 10,
   "metadata": {
    "collapsed": false
   },
   "outputs": [
    {
     "data": {
      "text/plain": [
       "80805.0"
      ]
     },
     "execution_count": 10,
     "metadata": {},
     "output_type": "execute_result"
    }
   ],
   "source": [
    "reviews_max['Quick PDF Scanner + OCR FREE']"
   ]
  },
  {
   "cell_type": "markdown",
   "metadata": {},
   "source": [
    "That looks good.  The highest review count is 80,805 per cell 8 above. \n",
    "\n",
    "Let's see how many entries are in our dictionary?"
   ]
  },
  {
   "cell_type": "code",
   "execution_count": 11,
   "metadata": {
    "collapsed": false
   },
   "outputs": [
    {
     "data": {
      "text/plain": [
       "9659"
      ]
     },
     "execution_count": 11,
     "metadata": {},
     "output_type": "execute_result"
    }
   ],
   "source": [
    "len(reviews_max)"
   ]
  },
  {
   "cell_type": "markdown",
   "metadata": {
    "collapsed": false
   },
   "source": [
    "9,659 is the expected result.\n",
    "\n",
    "Next we will remove duplicate records from the original Google data set, creating a new list called `android_clean`."
   ]
  },
  {
   "cell_type": "code",
   "execution_count": 12,
   "metadata": {
    "collapsed": false
   },
   "outputs": [],
   "source": [
    "# New list\n",
    "android_clean = []\n",
    "\n",
    "# List to store app names\n",
    "already_added = []\n",
    "\n",
    "# Loop through list to capture max reviews\n",
    "for i in google[1:]:\n",
    "    name = i[0]\n",
    "    n_reviews = float(i[3])\n",
    "    if reviews_max[name] == n_reviews and name not in already_added:\n",
    "        android_clean.append(i)\n",
    "        already_added.append(name)\n"
   ]
  },
  {
   "cell_type": "markdown",
   "metadata": {
    "collapsed": false
   },
   "source": [
    "Let's check that the length of the `android_clean` list is as expected.  We expect a length of 9,659."
   ]
  },
  {
   "cell_type": "code",
   "execution_count": 13,
   "metadata": {
    "collapsed": false
   },
   "outputs": [
    {
     "name": "stdout",
     "output_type": "stream",
     "text": [
      "['Photo Editor & Candy Camera & Grid & ScrapBook', 'ART_AND_DESIGN', '4.1', '159', '19M', '10,000+', 'Free', '0', 'Everyone', 'Art & Design', 'January 7, 2018', '1.0.0', '4.0.3 and up']\n",
      "\n",
      "\n",
      "['U Launcher Lite – FREE Live Cool Themes, Hide Apps', 'ART_AND_DESIGN', '4.7', '87510', '8.7M', '5,000,000+', 'Free', '0', 'Everyone', 'Art & Design', 'August 1, 2018', '1.2.4', '4.0.3 and up']\n",
      "\n",
      "\n",
      "Number of rows: 9659\n",
      "Number of columns: 13\n"
     ]
    }
   ],
   "source": [
    "explore_data(android_clean, 0, 2, \"TRUE\")"
   ]
  },
  {
   "cell_type": "markdown",
   "metadata": {},
   "source": [
    "That looks good. We no longer have the header row in the `android_clean` data.  The cell below re-inserts this and checks the result."
   ]
  },
  {
   "cell_type": "code",
   "execution_count": 14,
   "metadata": {
    "collapsed": false
   },
   "outputs": [
    {
     "name": "stdout",
     "output_type": "stream",
     "text": [
      "[['App', 'Category', 'Rating', 'Reviews', 'Size', 'Installs', 'Type', 'Price', 'Content Rating', 'Genres', 'Last Updated', 'Current Ver', 'Android Ver']]\n",
      "\n",
      "\n",
      "['Photo Editor & Candy Camera & Grid & ScrapBook', 'ART_AND_DESIGN', '4.1', '159', '19M', '10,000+', 'Free', '0', 'Everyone', 'Art & Design', 'January 7, 2018', '1.0.0', '4.0.3 and up']\n",
      "\n",
      "\n",
      "Number of rows: 9660\n",
      "Number of columns: 1\n"
     ]
    }
   ],
   "source": [
    "android_clean.insert(0,google[0:1])\n",
    "\n",
    "explore_data(android_clean, 0, 2, \"TRUE\")"
   ]
  },
  {
   "cell_type": "markdown",
   "metadata": {},
   "source": [
    "###### *Ref. page 6*\n",
    "We have learned the Google data set may contain non-English speaking apps and that these are to be excluded from our analysis.  \n",
    "\n",
    "Let's develop functionality to detect this.  The functions in the cell below return False if the text string ingested contains a non-English character.  I've included on non-looped variant but we will work with the looped implementation in line with the project requirements."
   ]
  },
  {
   "cell_type": "code",
   "execution_count": 15,
   "metadata": {
    "collapsed": false
   },
   "outputs": [
    {
     "name": "stdout",
     "output_type": "stream",
     "text": [
      "False\n",
      "False\n"
     ]
    }
   ],
   "source": [
    "def new_fun(and_str = 'Instachat 😜'):\n",
    "    for i in and_str:\n",
    "        ch_code = ord(i)\n",
    "        if ch_code > 127:\n",
    "            return False\n",
    "    return True\n",
    "print(new_fun())\n",
    "\n",
    "# Alternate implementation\n",
    "def new_fun_1(and_str = 'Instachat 😜'):\n",
    "    if ord(max(and_str)) > 127:\n",
    "        return False\n",
    "    return True\n",
    "print(new_fun_1())"
   ]
  },
  {
   "cell_type": "markdown",
   "metadata": {},
   "source": [
    "OK, let's test the function.  The ouput of the cell below should return True, False, False, False"
   ]
  },
  {
   "cell_type": "code",
   "execution_count": 16,
   "metadata": {
    "collapsed": false
   },
   "outputs": [
    {
     "name": "stdout",
     "output_type": "stream",
     "text": [
      "True\n",
      "False\n",
      "False\n",
      "False\n"
     ]
    }
   ],
   "source": [
    "print(new_fun(and_str = 'Instagram'))\n",
    "print(new_fun(and_str = '爱奇艺PPS -《欢乐颂2》电视剧热播'))\n",
    "print(new_fun(and_str = 'Docs To Go™ Free Office Suite'))\n",
    "print(new_fun(and_str = 'Instachat 😜'))"
   ]
  },
  {
   "cell_type": "markdown",
   "metadata": {
    "collapsed": true
   },
   "source": [
    "That look good.  Let's proceed.\n",
    "\n",
    "###### *Ref. page 7*\n",
    "\n",
    "The function above returns False if only one character is non-English.  We have now been asked to identify only app names with more than 3 non-English characters.  The function below does this. "
   ]
  },
  {
   "cell_type": "code",
   "execution_count": 17,
   "metadata": {
    "collapsed": false
   },
   "outputs": [
    {
     "name": "stdout",
     "output_type": "stream",
     "text": [
      "True\n",
      "True\n",
      "False\n"
     ]
    }
   ],
   "source": [
    "test = [['Docs To Go™ Free Office Suite'], \n",
    "        ['Instachat 😜'], \n",
    "        ['爱奇艺PPS -《欢乐颂2》电视剧热播']]\n",
    "\n",
    "def non_eng(name_str = test):\n",
    "    for j in name_str:\n",
    "        char_str = j[0]\n",
    "        non_eng_char = 0\n",
    "        for i in char_str:\n",
    "            ASCII = ord(i)\n",
    "            if ASCII > 127:\n",
    "                non_eng_char += 1\n",
    "        if non_eng_char > 3:\n",
    "            #return False    # comment in\n",
    "            print('False')   # comment out\n",
    "        else:                # comment out\n",
    "            print('True')    # comment out\n",
    "    #return True             # comment in\n",
    "\n",
    "            \n",
    "# Call function\n",
    "non_eng()"
   ]
  },
  {
   "cell_type": "markdown",
   "metadata": {
    "collapsed": false
   },
   "source": [
    "The above function contains a nested loop on the basis that the input is a list of lists.  This does not work, True or False cannot be returned from this function.  Switching the active lines of code per the comments in the cell above will return only one instance of True or False.  Three results are expected.  This appears to be due to the return instruction breaking the loop.\n",
    "\n",
    "Let's amend the function to assess one string at a time."
   ]
  },
  {
   "cell_type": "code",
   "execution_count": 18,
   "metadata": {
    "collapsed": false
   },
   "outputs": [
    {
     "data": {
      "text/plain": [
       "True"
      ]
     },
     "execution_count": 18,
     "metadata": {},
     "output_type": "execute_result"
    }
   ],
   "source": [
    "test1 = 'Docs To Go™ Free Office Suite'\n",
    "test2 = 'Instachat 😜'\n",
    "test3 = '爱奇艺PPS -《欢乐颂2》电视剧热播'\n",
    "\n",
    "def non_engl(name_string = 'Docs To Go™ Free Office Suite'):\n",
    "    non_engl_char = 0\n",
    "    for i in name_string:\n",
    "        ASCII = ord(i)\n",
    "        if ASCII > 127:\n",
    "            non_engl_char += 1\n",
    "    if non_engl_char > 3:\n",
    "        return False\n",
    "    else:\n",
    "        return True\n",
    "\n",
    "            \n",
    "# Call function\n",
    "non_engl(test1)"
   ]
  },
  {
   "cell_type": "code",
   "execution_count": 19,
   "metadata": {
    "collapsed": false
   },
   "outputs": [
    {
     "data": {
      "text/plain": [
       "True"
      ]
     },
     "execution_count": 19,
     "metadata": {},
     "output_type": "execute_result"
    }
   ],
   "source": [
    "non_engl(test2)"
   ]
  },
  {
   "cell_type": "code",
   "execution_count": 20,
   "metadata": {
    "collapsed": false
   },
   "outputs": [
    {
     "data": {
      "text/plain": [
       "False"
      ]
     },
     "execution_count": 20,
     "metadata": {},
     "output_type": "execute_result"
    }
   ],
   "source": [
    "non_engl(test3)"
   ]
  },
  {
   "cell_type": "markdown",
   "metadata": {},
   "source": [
    "This works as intended.  The test evidence is in the cells above.  \n",
    "\n",
    "We will now use this function to filter out non-English apps using the same method used above to filter out duplicates."
   ]
  },
  {
   "cell_type": "code",
   "execution_count": 21,
   "metadata": {
    "collapsed": false
   },
   "outputs": [],
   "source": [
    "# List for English names\n",
    "android_english = []\n",
    "apple_english = []\n",
    "\n",
    "# List for non-English names\n",
    "android_non_english = []\n",
    "apple_non_english = []\n",
    "\n",
    "# Loop through android list to capture max reviews\n",
    "for i in android_clean[1:]:  \n",
    "    name = i[0]\n",
    "    if non_engl(name):\n",
    "        android_english.append(i)\n",
    "    else:\n",
    "        android_non_english.append(i)\n",
    "        \n",
    "# Loop through apple list to capture max reviews\n",
    "for i in apple[1:]:   \n",
    "    name = i[1]\n",
    "    if non_engl(name):\n",
    "        apple_english.append(i)\n",
    "    else:\n",
    "        apple_non_english.append(i)"
   ]
  },
  {
   "cell_type": "code",
   "execution_count": 22,
   "metadata": {
    "collapsed": false
   },
   "outputs": [
    {
     "name": "stdout",
     "output_type": "stream",
     "text": [
      "Android English count: 9614\n",
      "Android non-English count: 45\n",
      "Apple English count: 6183\n",
      "Apple non-English count: 1014\n"
     ]
    }
   ],
   "source": [
    "print('Android English count:', len(android_english))\n",
    "print('Android non-English count:', len(android_non_english))\n",
    "print('Apple English count:', len(apple_english))\n",
    "print('Apple non-English count:', len(apple_non_english))"
   ]
  },
  {
   "cell_type": "markdown",
   "metadata": {},
   "source": [
    "Let's quickly review some of the non-English Android apps.  The cell below calls the \"explore_data\" function to review the first 4 records. "
   ]
  },
  {
   "cell_type": "code",
   "execution_count": 23,
   "metadata": {
    "collapsed": false
   },
   "outputs": [
    {
     "name": "stdout",
     "output_type": "stream",
     "text": [
      "['Flame - درب عقلك يوميا', 'EDUCATION', '4.6', '56065', '37M', '1,000,000+', 'Free', '0', 'Everyone', 'Education', 'July 26, 2018', '3.3', '4.1 and up']\n",
      "\n",
      "\n",
      "['သိင်္ Astrology - Min Thein Kha BayDin', 'LIFESTYLE', '4.7', '2225', '15M', '100,000+', 'Free', '0', 'Everyone', 'Lifestyle', 'July 26, 2018', '4.2.1', '4.0.3 and up']\n",
      "\n",
      "\n",
      "['РИА Новости', 'NEWS_AND_MAGAZINES', '4.5', '44274', '8.0M', '1,000,000+', 'Free', '0', 'Everyone', 'News & Magazines', 'August 6, 2018', '4.0.6', '4.4 and up']\n",
      "\n",
      "\n",
      "Number of rows: 45\n",
      "Number of columns: 13\n"
     ]
    }
   ],
   "source": [
    "explore_data(android_non_english, 0, 3, \"TRUE\")"
   ]
  },
  {
   "cell_type": "markdown",
   "metadata": {},
   "source": [
    "This looks as expected so we will move on.  Once again we have lost the header row as a result of the `[1:]` looping condition.\n",
    "\n",
    "###### *Ref. page 8*\n",
    "\n",
    "We have been asked to look at only free apps.  This is because we only build apps that are free to download and install.  The next cell creates new lists for free and paid apps for each of the Apple and Google lists.  The length of these lists is returned for review."
   ]
  },
  {
   "cell_type": "code",
   "execution_count": 24,
   "metadata": {
    "collapsed": false
   },
   "outputs": [],
   "source": [
    "# List for free english apps\n",
    "android_free_english = []\n",
    "apple_free_english = []\n",
    "\n",
    "# List paid english apps\n",
    "android_paid_english = []\n",
    "apple_paid_english = []\n",
    "\n",
    "# Loop through android list isolate free apps\n",
    "for i in android_english:\n",
    "    price = float(i[7].replace('$', ''))\n",
    "    if price == 0:\n",
    "        android_free_english.append(i)\n",
    "    else:\n",
    "        android_paid_english.append(i)\n",
    "        \n",
    "# Loop through apple list to isolate free apps\n",
    "for i in apple_english:\n",
    "    price = float(i[4].replace('$', ''))\n",
    "    if price == 0:\n",
    "        apple_free_english.append(i)\n",
    "    else:\n",
    "        apple_paid_english.append(i)"
   ]
  },
  {
   "cell_type": "code",
   "execution_count": 25,
   "metadata": {
    "collapsed": false
   },
   "outputs": [
    {
     "name": "stdout",
     "output_type": "stream",
     "text": [
      "Android free count: 8864\n",
      "Android paid count: 750\n",
      "Apple free count: 3222\n",
      "Apple paid count: 2961\n"
     ]
    }
   ],
   "source": [
    "print('Android free count:', len(android_free_english))\n",
    "print('Android paid count:', len(android_paid_english))\n",
    "print('Apple free count:', len(apple_free_english))\n",
    "print('Apple paid count:', len(apple_paid_english))"
   ]
  },
  {
   "cell_type": "markdown",
   "metadata": {},
   "source": [
    "The sum of the free and paid apps equals that of the source list for each of the Apple and Google data sets.  With that check confirmed we will move on.\n",
    "\n",
    "###### *Ref. page 9*\n",
    "\n",
    "We now want to find the profile of apps that are popular on both Google Play Store and the Apple app store.  Apps on both platforms are likely to have more users and fit with our strategy of developing for one platform before expanding to another.\n",
    "\n",
    "Let's have a look at the attributes provided in both datasets in order to determine if there is a \"genre\" attribute common to both. "
   ]
  },
  {
   "cell_type": "code",
   "execution_count": 26,
   "metadata": {
    "collapsed": false
   },
   "outputs": [
    {
     "name": "stdout",
     "output_type": "stream",
     "text": [
      "[['App', 'Category', 'Rating', 'Reviews', 'Size', 'Installs', 'Type', 'Price', 'Content Rating', 'Genres', 'Last Updated', 'Current Ver', 'Android Ver']]\n",
      "\n",
      "\n",
      "[['id', 'track_name', 'size_bytes', 'currency', 'price', 'rating_count_tot', 'rating_count_ver', 'user_rating', 'user_rating_ver', 'ver', 'cont_rating', 'prime_genre', 'sup_devices.num', 'ipadSc_urls.num', 'lang.num', 'vpp_lic']]\n"
     ]
    }
   ],
   "source": [
    "print(google[0:1])\n",
    "print('\\n')\n",
    "print(apple[0:1])"
   ]
  },
  {
   "cell_type": "markdown",
   "metadata": {},
   "source": [
    "It looks like \"Category\", \"Genres\" and \"prime_genre\" will do the trick. "
   ]
  },
  {
   "cell_type": "code",
   "execution_count": 27,
   "metadata": {
    "collapsed": false
   },
   "outputs": [
    {
     "name": "stdout",
     "output_type": "stream",
     "text": [
      "Category\n",
      "Genres\n",
      "prime_genre\n"
     ]
    }
   ],
   "source": [
    "print(google[0][1])\n",
    "print(google[0][9])\n",
    "print(apple[0][11])"
   ]
  },
  {
   "cell_type": "markdown",
   "metadata": {},
   "source": [
    "###### *Ref. page 10*\n",
    "\n",
    "In the series of cells below, we write a function to create a dictionary of the proportion of apps in a specified column (index) for a specified dataset (dataset). \n",
    "\n",
    "This function is then used in the supplied function, \"display_table()\" to view the `prime_genre`, `Genres`, and `Category` columns. \n",
    "\n",
    "The proportion or frequency of the genre will potentially provide information about the popularity of apps."
   ]
  },
  {
   "cell_type": "code",
   "execution_count": 28,
   "metadata": {
    "collapsed": false
   },
   "outputs": [],
   "source": [
    "def freq_table(dataset, index):\n",
    "    freq_tble = {}\n",
    "    length = len(dataset)\n",
    "    for row in dataset:\n",
    "        col = row[index]\n",
    "        if col in freq_tble:\n",
    "            freq_tble[col] += 1\n",
    "        else:\n",
    "            freq_tble[col] =1\n",
    "    \n",
    "    # Convert to proportions\n",
    "    for i in freq_tble:\n",
    "        freq_tble[i] /= length\n",
    "        freq_tble[i] = freq_tble[i] * 100\n",
    "    \n",
    "    return freq_tble"
   ]
  },
  {
   "cell_type": "code",
   "execution_count": 29,
   "metadata": {
    "collapsed": false
   },
   "outputs": [
    {
     "data": {
      "text/plain": [
       "{'12+': 17.070142768466788,\n",
       " '17+': 6.424581005586592,\n",
       " '4+': 65.85971446306642,\n",
       " '9+': 10.645561762880199}"
      ]
     },
     "execution_count": 29,
     "metadata": {},
     "output_type": "execute_result"
    }
   ],
   "source": [
    "# Test the function on the Apple 'cont_rating' column\n",
    "freq_table(apple_free_english, 10)"
   ]
  },
  {
   "cell_type": "code",
   "execution_count": 30,
   "metadata": {
    "collapsed": false
   },
   "outputs": [],
   "source": [
    "def display_table(dataset, index):\n",
    "    table = freq_table(dataset, index)\n",
    "    table_display = []\n",
    "    for key in table:\n",
    "        key_val_as_tuple = (table[key], key)\n",
    "        table_display.append(key_val_as_tuple)\n",
    "\n",
    "    table_sorted = sorted(table_display, reverse = True)\n",
    "    for entry in table_sorted:\n",
    "        print(entry[1], ':', entry[0])"
   ]
  },
  {
   "cell_type": "code",
   "execution_count": 31,
   "metadata": {
    "collapsed": false
   },
   "outputs": [
    {
     "name": "stdout",
     "output_type": "stream",
     "text": [
      "Android: Category\n",
      "FAMILY : 18.907942238267147\n",
      "GAME : 9.724729241877256\n",
      "TOOLS : 8.461191335740072\n",
      "BUSINESS : 4.591606498194946\n",
      "LIFESTYLE : 3.9034296028880866\n",
      "PRODUCTIVITY : 3.892148014440433\n",
      "FINANCE : 3.7003610108303246\n",
      "MEDICAL : 3.531137184115524\n",
      "SPORTS : 3.395758122743682\n",
      "PERSONALIZATION : 3.3167870036101084\n",
      "COMMUNICATION : 3.2378158844765346\n",
      "HEALTH_AND_FITNESS : 3.0798736462093865\n",
      "PHOTOGRAPHY : 2.944494584837545\n",
      "NEWS_AND_MAGAZINES : 2.7978339350180503\n",
      "SOCIAL : 2.6624548736462095\n",
      "TRAVEL_AND_LOCAL : 2.33528880866426\n",
      "SHOPPING : 2.2450361010830324\n",
      "BOOKS_AND_REFERENCE : 2.1435018050541514\n",
      "DATING : 1.861462093862816\n",
      "VIDEO_PLAYERS : 1.7937725631768955\n",
      "MAPS_AND_NAVIGATION : 1.3989169675090252\n",
      "FOOD_AND_DRINK : 1.2409747292418771\n",
      "EDUCATION : 1.1620036101083033\n",
      "ENTERTAINMENT : 0.9589350180505415\n",
      "LIBRARIES_AND_DEMO : 0.9363718411552346\n",
      "AUTO_AND_VEHICLES : 0.9250902527075812\n",
      "HOUSE_AND_HOME : 0.8235559566787004\n",
      "WEATHER : 0.8009927797833934\n",
      "EVENTS : 0.7107400722021661\n",
      "PARENTING : 0.6543321299638989\n",
      "ART_AND_DESIGN : 0.6430505415162455\n",
      "COMICS : 0.6204873646209386\n",
      "BEAUTY : 0.5979241877256317\n",
      "\n",
      "\n",
      "Android: Genres\n",
      "Tools : 8.449909747292418\n",
      "Entertainment : 6.069494584837545\n",
      "Education : 5.347472924187725\n",
      "Business : 4.591606498194946\n",
      "Productivity : 3.892148014440433\n",
      "Lifestyle : 3.892148014440433\n",
      "Finance : 3.7003610108303246\n",
      "Medical : 3.531137184115524\n",
      "Sports : 3.463447653429603\n",
      "Personalization : 3.3167870036101084\n",
      "Communication : 3.2378158844765346\n",
      "Action : 3.1024368231046933\n",
      "Health & Fitness : 3.0798736462093865\n",
      "Photography : 2.944494584837545\n",
      "News & Magazines : 2.7978339350180503\n",
      "Social : 2.6624548736462095\n",
      "Travel & Local : 2.3240072202166067\n",
      "Shopping : 2.2450361010830324\n",
      "Books & Reference : 2.1435018050541514\n",
      "Simulation : 2.0419675090252705\n",
      "Dating : 1.861462093862816\n",
      "Arcade : 1.8501805054151623\n",
      "Video Players & Editors : 1.7712093862815883\n",
      "Casual : 1.7599277978339352\n",
      "Maps & Navigation : 1.3989169675090252\n",
      "Food & Drink : 1.2409747292418771\n",
      "Puzzle : 1.128158844765343\n",
      "Racing : 0.9927797833935018\n",
      "Role Playing : 0.9363718411552346\n",
      "Libraries & Demo : 0.9363718411552346\n",
      "Auto & Vehicles : 0.9250902527075812\n",
      "Strategy : 0.9138086642599278\n",
      "House & Home : 0.8235559566787004\n",
      "Weather : 0.8009927797833934\n",
      "Events : 0.7107400722021661\n",
      "Adventure : 0.6768953068592057\n",
      "Comics : 0.6092057761732852\n",
      "Beauty : 0.5979241877256317\n",
      "Art & Design : 0.5979241877256317\n",
      "Parenting : 0.4963898916967509\n",
      "Card : 0.45126353790613716\n",
      "Casino : 0.42870036101083037\n",
      "Trivia : 0.41741877256317694\n",
      "Educational;Education : 0.39485559566787\n",
      "Board : 0.3835740072202166\n",
      "Educational : 0.3722924187725632\n",
      "Education;Education : 0.33844765342960287\n",
      "Word : 0.2594765342960289\n",
      "Casual;Pretend Play : 0.236913357400722\n",
      "Music : 0.2030685920577617\n",
      "Racing;Action & Adventure : 0.16922382671480143\n",
      "Puzzle;Brain Games : 0.16922382671480143\n",
      "Entertainment;Music & Video : 0.16922382671480143\n",
      "Casual;Brain Games : 0.13537906137184114\n",
      "Casual;Action & Adventure : 0.13537906137184114\n",
      "Arcade;Action & Adventure : 0.12409747292418773\n",
      "Action;Action & Adventure : 0.10153429602888085\n",
      "Educational;Pretend Play : 0.09025270758122744\n",
      "Simulation;Action & Adventure : 0.078971119133574\n",
      "Parenting;Education : 0.078971119133574\n",
      "Entertainment;Brain Games : 0.078971119133574\n",
      "Board;Brain Games : 0.078971119133574\n",
      "Parenting;Music & Video : 0.06768953068592057\n",
      "Educational;Brain Games : 0.06768953068592057\n",
      "Casual;Creativity : 0.06768953068592057\n",
      "Art & Design;Creativity : 0.06768953068592057\n",
      "Education;Pretend Play : 0.056407942238267145\n",
      "Role Playing;Pretend Play : 0.04512635379061372\n",
      "Education;Creativity : 0.04512635379061372\n",
      "Role Playing;Action & Adventure : 0.033844765342960284\n",
      "Puzzle;Action & Adventure : 0.033844765342960284\n",
      "Entertainment;Creativity : 0.033844765342960284\n",
      "Entertainment;Action & Adventure : 0.033844765342960284\n",
      "Educational;Creativity : 0.033844765342960284\n",
      "Educational;Action & Adventure : 0.033844765342960284\n",
      "Education;Music & Video : 0.033844765342960284\n",
      "Education;Brain Games : 0.033844765342960284\n",
      "Education;Action & Adventure : 0.033844765342960284\n",
      "Adventure;Action & Adventure : 0.033844765342960284\n",
      "Video Players & Editors;Music & Video : 0.02256317689530686\n",
      "Sports;Action & Adventure : 0.02256317689530686\n",
      "Simulation;Pretend Play : 0.02256317689530686\n",
      "Puzzle;Creativity : 0.02256317689530686\n",
      "Music;Music & Video : 0.02256317689530686\n",
      "Entertainment;Pretend Play : 0.02256317689530686\n",
      "Casual;Education : 0.02256317689530686\n",
      "Board;Action & Adventure : 0.02256317689530686\n",
      "Video Players & Editors;Creativity : 0.01128158844765343\n",
      "Trivia;Education : 0.01128158844765343\n",
      "Travel & Local;Action & Adventure : 0.01128158844765343\n",
      "Tools;Education : 0.01128158844765343\n",
      "Strategy;Education : 0.01128158844765343\n",
      "Strategy;Creativity : 0.01128158844765343\n",
      "Strategy;Action & Adventure : 0.01128158844765343\n",
      "Simulation;Education : 0.01128158844765343\n",
      "Role Playing;Brain Games : 0.01128158844765343\n",
      "Racing;Pretend Play : 0.01128158844765343\n",
      "Puzzle;Education : 0.01128158844765343\n",
      "Parenting;Brain Games : 0.01128158844765343\n",
      "Music & Audio;Music & Video : 0.01128158844765343\n",
      "Lifestyle;Pretend Play : 0.01128158844765343\n",
      "Lifestyle;Education : 0.01128158844765343\n",
      "Health & Fitness;Education : 0.01128158844765343\n",
      "Health & Fitness;Action & Adventure : 0.01128158844765343\n",
      "Entertainment;Education : 0.01128158844765343\n",
      "Communication;Creativity : 0.01128158844765343\n",
      "Comics;Creativity : 0.01128158844765343\n",
      "Casual;Music & Video : 0.01128158844765343\n",
      "Card;Action & Adventure : 0.01128158844765343\n",
      "Books & Reference;Education : 0.01128158844765343\n",
      "Art & Design;Pretend Play : 0.01128158844765343\n",
      "Art & Design;Action & Adventure : 0.01128158844765343\n",
      "Arcade;Pretend Play : 0.01128158844765343\n",
      "Adventure;Education : 0.01128158844765343\n",
      "\n",
      "\n",
      "Apple: prime_genre\n",
      "Games : 58.16263190564867\n",
      "Entertainment : 7.883302296710118\n",
      "Photo & Video : 4.9658597144630665\n",
      "Education : 3.662321539416512\n",
      "Social Networking : 3.2898820608317814\n",
      "Shopping : 2.60707635009311\n",
      "Utilities : 2.5139664804469275\n",
      "Sports : 2.1415270018621975\n",
      "Music : 2.0484171322160147\n",
      "Health & Fitness : 2.0173805090006205\n",
      "Productivity : 1.7380509000620732\n",
      "Lifestyle : 1.5828677839851024\n",
      "News : 1.3345747982619491\n",
      "Travel : 1.2414649286157666\n",
      "Finance : 1.1173184357541899\n",
      "Weather : 0.8690254500310366\n",
      "Food & Drink : 0.8069522036002483\n",
      "Reference : 0.5586592178770949\n",
      "Business : 0.5276225946617008\n",
      "Book : 0.4345127250155183\n",
      "Navigation : 0.186219739292365\n",
      "Medical : 0.186219739292365\n",
      "Catalogs : 0.12414649286157665\n"
     ]
    }
   ],
   "source": [
    "# Display the results\n",
    "print('Android:', google[0][1])\n",
    "display_table(android_free_english, 1)\n",
    "print('\\n')\n",
    "print('Android:', google[0][9])\n",
    "display_table(android_free_english, 9)\n",
    "print('\\n')\n",
    "print('Apple:', apple[0][11])\n",
    "display_table(apple_free_english, 11)"
   ]
  },
  {
   "cell_type": "markdown",
   "metadata": {},
   "source": [
    "###### *Ref. page 11*\n",
    "\n",
    "###### Observations on the Apple: prime_genre data\n",
    "By far the most common genre in the Apple data set is games.  Game apps account for 58% of all apps in our sample, with Entertainment in second place with 8%. \n",
    "\n",
    "As a general topic, most apps are from a genre that would be considered entertainment / leisure.  The most common non-entertainment genre is education, which accounts for less than 4%.\n",
    "\n",
    "Although game apps account for 58% of our samples, we should be careful when we conclude that this amounts to popularity.  We do not know the extent to which these apps are installed and used.\n",
    "\n",
    "###### Observations on the Android: Category & Android: Genres\n",
    "The genre type of the Android app is more diverse than Apple.  The highest share is family with 19%, followed by games with 10%.  Most apps would be considered non-entertainment or practical use.  This contrasts with the Apple apps which are entertainment based.\n",
    "\n",
    "\n",
    "Once again we shouldn't equate the proportion of genre with popularity.\n",
    "\n",
    "At this stage, we should not recommend an app profile for development, as we have not yet analyzed installation or user ratings data.\n",
    "\n",
    "###### *Ref. page 12*\n",
    "\n",
    "We cannot equate the proportion of apps in each data set with popularity.  Popularity is better measured by the amount of users and/or the rating of those users.  \n",
    "\n",
    "We will now look at the amount of users for the Apple data set.  Installation data is not available so we will use number of ratings submitted as a proxy for the number of users/installations.\n",
    "\n",
    "The cell below calculates the average number of ratings submitted for apps in each genre."
   ]
  },
  {
   "cell_type": "code",
   "execution_count": 32,
   "metadata": {
    "collapsed": false
   },
   "outputs": [
    {
     "name": "stdout",
     "output_type": "stream",
     "text": [
      "Genre : Average number of ratings\n",
      "Medical : 612.0\n",
      "News : 21248.023255813954\n",
      "Finance : 31467.944444444445\n",
      "Productivity : 21028.410714285714\n",
      "Social Networking : 71548.34905660378\n",
      "Shopping : 26919.690476190477\n",
      "Games : 22788.6696905016\n",
      "Education : 7003.983050847458\n",
      "Lifestyle : 16485.764705882353\n",
      "Sports : 23008.898550724636\n",
      "Catalogs : 4004.0\n",
      "Health & Fitness : 23298.015384615384\n",
      "Book : 39758.5\n",
      "Entertainment : 14029.830708661417\n",
      "Reference : 74942.11111111111\n",
      "Photo & Video : 28441.54375\n",
      "Weather : 52279.892857142855\n",
      "Travel : 28243.8\n",
      "Business : 7491.117647058823\n",
      "Utilities : 18684.456790123455\n",
      "Music : 57326.530303030304\n",
      "Navigation : 86090.33333333333\n",
      "Food & Drink : 33333.92307692308\n"
     ]
    }
   ],
   "source": [
    "# use 11 for genre\n",
    "print('Genre : Average number of ratings')\n",
    "for genre in freq_table(apple_free_english, 11):\n",
    "    total = 0\n",
    "    len_genre = 0\n",
    "    #print(genre)\n",
    "    for app in apple_free_english:\n",
    "        genre_app = app[11]\n",
    "        if genre_app == genre:\n",
    "            ratings = float(app[5])\n",
    "            total += ratings\n",
    "            len_genre += 1\n",
    "    avg_rating = total / len_genre\n",
    "    print(genre, ':', avg_rating)"
   ]
  },
  {
   "cell_type": "markdown",
   "metadata": {
    "collapsed": false
   },
   "source": [
    "Navigation, Reference and Social Networking have the highest numbers of user ratings submitted.   Reference and Social Networking are among the lowest proportion of apps.  We can conclude that these genres have a small number of apps that are very popular.  \n",
    "\n",
    "We recommend that an app be developed for one of these genres.  This recommendation is on the basis that market share can be taken from an incumbent in genres where there is not a lot of competition. \n",
    "\n",
    "###### *Ref. page 13*\n",
    "\n",
    "We now turn to the Google data set.  This data set contains an `Installs` attribute, but this attribute is stratified and does not contain an integer of total installations.   \n",
    "\n",
    "The frequency table output of the cell below demonstrates this.  "
   ]
  },
  {
   "cell_type": "code",
   "execution_count": 33,
   "metadata": {
    "collapsed": false
   },
   "outputs": [
    {
     "name": "stdout",
     "output_type": "stream",
     "text": [
      "1,000,000+ : 15.726534296028879\n",
      "100,000+ : 11.552346570397113\n",
      "10,000,000+ : 10.548285198555957\n",
      "10,000+ : 10.198555956678701\n",
      "1,000+ : 8.393501805054152\n",
      "100+ : 6.915613718411552\n",
      "5,000,000+ : 6.825361010830325\n",
      "500,000+ : 5.561823104693141\n",
      "50,000+ : 4.7721119133574\n",
      "5,000+ : 4.512635379061372\n",
      "10+ : 3.5424187725631766\n",
      "500+ : 3.2490974729241873\n",
      "50,000,000+ : 2.3014440433213\n",
      "100,000,000+ : 2.1322202166064983\n",
      "50+ : 1.917870036101083\n",
      "5+ : 0.78971119133574\n",
      "1+ : 0.5076714801444043\n",
      "500,000,000+ : 0.2707581227436823\n",
      "1,000,000,000+ : 0.22563176895306858\n",
      "0+ : 0.04512635379061372\n",
      "0 : 0.01128158844765343\n"
     ]
    }
   ],
   "source": [
    "display_table(android_free_english, 5)"
   ]
  },
  {
   "cell_type": "markdown",
   "metadata": {},
   "source": [
    "We are happy to derive a less than precise estimate of user installations, and so will use the stratification level as an integer.\n",
    "\n",
    "For example when we see 10,000+, we will assume the total installations is 10,000.\n",
    "\n",
    "The cell below calculates the average number of installations for apps in each genre using the same method that was applied to the Apple data.  This is done by converting the stratification level to a float using the `float` and `replace` functions."
   ]
  },
  {
   "cell_type": "code",
   "execution_count": 34,
   "metadata": {
    "collapsed": false
   },
   "outputs": [
    {
     "name": "stdout",
     "output_type": "stream",
     "text": [
      "Genre : Average number of installations\n",
      "ENTERTAINMENT : 11640705.88235294\n",
      "MAPS_AND_NAVIGATION : 4056941.7741935486\n",
      "PARENTING : 542603.6206896552\n",
      "EDUCATION : 1833495.145631068\n",
      "FAMILY : 3695641.8198090694\n",
      "SPORTS : 3638640.1428571427\n",
      "WEATHER : 5074486.197183099\n",
      "TRAVEL_AND_LOCAL : 13984077.710144928\n",
      "FOOD_AND_DRINK : 1924897.7363636363\n",
      "DATING : 854028.8303030303\n",
      "GAME : 15588015.603248259\n",
      "HEALTH_AND_FITNESS : 4188821.9853479853\n",
      "BOOKS_AND_REFERENCE : 8767811.894736841\n",
      "TOOLS : 10801391.298666667\n",
      "PRODUCTIVITY : 16787331.344927534\n",
      "SOCIAL : 23253652.127118643\n",
      "COMICS : 817657.2727272727\n",
      "BEAUTY : 513151.88679245283\n",
      "AUTO_AND_VEHICLES : 647317.8170731707\n",
      "SHOPPING : 7036877.311557789\n",
      "EVENTS : 253542.22222222222\n",
      "BUSINESS : 1712290.1474201474\n",
      "LIFESTYLE : 1437816.2687861272\n",
      "LIBRARIES_AND_DEMO : 638503.734939759\n",
      "PHOTOGRAPHY : 17840110.40229885\n",
      "FINANCE : 1387692.475609756\n",
      "VIDEO_PLAYERS : 24727872.452830188\n",
      "PERSONALIZATION : 5201482.6122448975\n",
      "NEWS_AND_MAGAZINES : 9549178.467741935\n",
      "COMMUNICATION : 38456119.167247385\n",
      "MEDICAL : 120550.61980830671\n",
      "ART_AND_DESIGN : 1986335.0877192982\n",
      "HOUSE_AND_HOME : 1331540.5616438356\n"
     ]
    }
   ],
   "source": [
    "print('Genre : Average number of installations')\n",
    "for genre in freq_table(android_free_english, 1):\n",
    "    total = 0\n",
    "    len_genre = 0\n",
    "    for app in android_free_english:\n",
    "        genre_app = app[1]\n",
    "        if genre_app == genre:\n",
    "            ratings1 = app[5].replace('+','')\n",
    "            ratings = float(ratings1.replace(',',''))\n",
    "            total += ratings\n",
    "            len_genre += 1\n",
    "    avg_rating = total / len_genre\n",
    "    print(genre, ':', avg_rating)"
   ]
  },
  {
   "cell_type": "markdown",
   "metadata": {
    "collapsed": true
   },
   "source": [
    "We will keep with the theme of developing apps for genres that are not crowded, i.e. have as small number of apps, but have a high level of users.   The \"Books and reference\" genre is on the high to mid range of users and forms only 2% of all apps.  This is consistent with it's counterpart genre in the Apple data set, \"Reference\".\n",
    "\n",
    "In conclusion our advise is to choose the \"Books and reference\" genre for development.  This genre has a high level of users in both the Apple and Google app stores suggesting it is a popular genre for download.  The \"Books and reference\" genre does not have a large number of apps which we think will make breaking into this genre easier."
   ]
  }
 ],
 "metadata": {
  "kernelspec": {
   "display_name": "Python 3",
   "language": "python",
   "name": "python3"
  },
  "language_info": {
   "codemirror_mode": {
    "name": "ipython",
    "version": 3
   },
   "file_extension": ".py",
   "mimetype": "text/x-python",
   "name": "python",
   "nbconvert_exporter": "python",
   "pygments_lexer": "ipython3",
   "version": "3.4.3"
  }
 },
 "nbformat": 4,
 "nbformat_minor": 2
}
