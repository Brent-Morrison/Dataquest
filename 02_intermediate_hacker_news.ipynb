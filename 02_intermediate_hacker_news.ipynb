{
 "cells": [
  {
   "cell_type": "markdown",
   "metadata": {
    "collapsed": true
   },
   "source": [
    "### Hacker News Posts\n",
    "\n",
    "This project is going to analyse Hacker News posts in order to answer the following two questions:\n",
    "1. Do *ask* or *show* posts receive more comments on average?\n",
    "2. Do posts created at a certain time receive more comments on average?\n",
    "\n",
    "*ask* posts are submitted asking a specific questions while *show* posts show the Hacker News community a project, product, or an interesting topic.  \n",
    "\n",
    "#### Backgound\n",
    "This notebook is being prepared to satisfy the Dataquest \"Python - Data Science Fundamentals\" course. Quoting of page numbers references the location of the project requirements.\n",
    "\n",
    "We start our analysis by importing the required libraries and creating a helper function for printing lists. "
   ]
  },
  {
   "cell_type": "code",
   "execution_count": 3,
   "metadata": {
    "collapsed": true
   },
   "outputs": [],
   "source": [
    "# Library requirements\n",
    "import csv\n",
    "\n",
    "# Import data\n",
    "hn_opened = open('hacker_news.csv')\n",
    "hn = list(csv.reader(hn_opened))\n",
    "\n",
    "# Initialise explore_data function\n",
    "# This function is taken from the last guided project\n",
    "def explore_data(dataset, start, end, rows_and_columns=False):\n",
    "    dataset_slice = dataset[start:end]    \n",
    "    for row in dataset_slice:\n",
    "        print(row)\n",
    "        # adds a new (empty) line after each row\n",
    "        print('\\n') \n",
    "\n",
    "    if rows_and_columns:\n",
    "        print('Number of rows:', len(dataset))\n",
    "        print('Number of columns:', len(dataset[0]))"
   ]
  },
  {
   "cell_type": "markdown",
   "metadata": {},
   "source": [
    "Lets have a look at the first five rows of the `hacker_news` csv file."
   ]
  },
  {
   "cell_type": "code",
   "execution_count": 4,
   "metadata": {
    "collapsed": false
   },
   "outputs": [
    {
     "name": "stdout",
     "output_type": "stream",
     "text": [
      "['id', 'title', 'url', 'num_points', 'num_comments', 'author', 'created_at']\n",
      "\n",
      "\n",
      "['12224879', 'Interactive Dynamic Video', 'http://www.interactivedynamicvideo.com/', '386', '52', 'ne0phyte', '8/4/2016 11:52']\n",
      "\n",
      "\n",
      "['10975351', 'How to Use Open Source and Shut the Fuck Up at the Same Time', 'http://hueniverse.com/2016/01/26/how-to-use-open-source-and-shut-the-fuck-up-at-the-same-time/', '39', '10', 'josep2', '1/26/2016 19:30']\n",
      "\n",
      "\n",
      "['11964716', \"Florida DJs May Face Felony for April Fools' Water Joke\", 'http://www.thewire.com/entertainment/2013/04/florida-djs-april-fools-water-joke/63798/', '2', '1', 'vezycash', '6/23/2016 22:20']\n",
      "\n",
      "\n",
      "['11919867', 'Technology ventures: From Idea to Enterprise', 'https://www.amazon.com/Technology-Ventures-Enterprise-Thomas-Byers/dp/0073523429', '3', '1', 'hswarna', '6/17/2016 0:01']\n",
      "\n",
      "\n",
      "Number of rows: 20101\n",
      "Number of columns: 7\n"
     ]
    }
   ],
   "source": [
    "explore_data(hn, 0, 5, \"TRUE\")"
   ]
  },
  {
   "cell_type": "markdown",
   "metadata": {},
   "source": [
    "#### Ref. page 2\n",
    "\n",
    "The first row is a header.  Lets extract the header row to a separate variable and then remove it from the `hn` object."
   ]
  },
  {
   "cell_type": "code",
   "execution_count": 5,
   "metadata": {
    "collapsed": false
   },
   "outputs": [
    {
     "name": "stdout",
     "output_type": "stream",
     "text": [
      "['id', 'title', 'url', 'num_points', 'num_comments', 'author', 'created_at']\n"
     ]
    }
   ],
   "source": [
    "headers = hn[0] \n",
    "print(headers)"
   ]
  },
  {
   "cell_type": "code",
   "execution_count": 6,
   "metadata": {
    "collapsed": true
   },
   "outputs": [],
   "source": [
    "hn = hn[1:]"
   ]
  },
  {
   "cell_type": "code",
   "execution_count": 7,
   "metadata": {
    "collapsed": false
   },
   "outputs": [
    {
     "name": "stdout",
     "output_type": "stream",
     "text": [
      "['12224879', 'Interactive Dynamic Video', 'http://www.interactivedynamicvideo.com/', '386', '52', 'ne0phyte', '8/4/2016 11:52']\n",
      "\n",
      "\n",
      "['10975351', 'How to Use Open Source and Shut the Fuck Up at the Same Time', 'http://hueniverse.com/2016/01/26/how-to-use-open-source-and-shut-the-fuck-up-at-the-same-time/', '39', '10', 'josep2', '1/26/2016 19:30']\n",
      "\n",
      "\n",
      "['11964716', \"Florida DJs May Face Felony for April Fools' Water Joke\", 'http://www.thewire.com/entertainment/2013/04/florida-djs-april-fools-water-joke/63798/', '2', '1', 'vezycash', '6/23/2016 22:20']\n",
      "\n",
      "\n",
      "['11919867', 'Technology ventures: From Idea to Enterprise', 'https://www.amazon.com/Technology-Ventures-Enterprise-Thomas-Byers/dp/0073523429', '3', '1', 'hswarna', '6/17/2016 0:01']\n",
      "\n",
      "\n",
      "['10301696', 'Note by Note: The Making of Steinway L1037 (2007)', 'http://www.nytimes.com/2007/11/07/movies/07stein.html?_r=0', '8', '2', 'walterbell', '9/30/2015 4:12']\n",
      "\n",
      "\n",
      "Number of rows: 20100\n",
      "Number of columns: 7\n"
     ]
    }
   ],
   "source": [
    "explore_data(hn, 0, 5, \"TRUE\")"
   ]
  },
  {
   "cell_type": "markdown",
   "metadata": {},
   "source": [
    "No more header, that looks good.\n",
    "\n",
    "#### Ref. page 3\n",
    "We now want to extract the *ask*, *show* and *other* posts into separate lists.  The loop below extracts posts that start with `Ask` or `Show` (regardless of case) and prints the total records for each."
   ]
  },
  {
   "cell_type": "code",
   "execution_count": 8,
   "metadata": {
    "collapsed": false
   },
   "outputs": [
    {
     "name": "stdout",
     "output_type": "stream",
     "text": [
      "Ask posts: 1756\n",
      "Show posts: 1164\n",
      "Other posts: 17180\n",
      "Total posts: 20100\n"
     ]
    }
   ],
   "source": [
    "ask_posts = []\n",
    "show_posts = []\n",
    "other_posts = []\n",
    "\n",
    "for row in hn:\n",
    "    title = row[1].lower()\n",
    "    if title.startswith('ask'):\n",
    "        ask_posts.append(row)\n",
    "    elif title.startswith('show'):\n",
    "        show_posts.append(row)\n",
    "    else:\n",
    "        other_posts.append(row)\n",
    "        \n",
    "print(\"Ask posts:\", len(ask_posts))\n",
    "print(\"Show posts:\", len(show_posts))\n",
    "print(\"Other posts:\", len(other_posts))\n",
    "\n",
    "# Check totals\n",
    "total_posts = len(ask_posts) + len(show_posts) + len(other_posts)\n",
    "print(\"Total posts:\", total_posts)"
   ]
  },
  {
   "cell_type": "markdown",
   "metadata": {},
   "source": [
    "#### Ref. page 4\n",
    "\n",
    "We have been asked to find determine if ask posts or show posts receive more comments on average."
   ]
  },
  {
   "cell_type": "code",
   "execution_count": 9,
   "metadata": {
    "collapsed": false
   },
   "outputs": [
    {
     "name": "stdout",
     "output_type": "stream",
     "text": [
      "Average ask post comments: 14.203302961275627\n",
      "Average show post comments: 10.323024054982818\n"
     ]
    }
   ],
   "source": [
    "# Ask comments\n",
    "total_ask_comments = 0\n",
    "\n",
    "for row in ask_posts:\n",
    "    num_comments = int(row[4])\n",
    "    total_ask_comments += num_comments\n",
    "\n",
    "avg_ask_comments = total_ask_comments / len(ask_posts)\n",
    "\n",
    "# Show comments\n",
    "total_show_comments = 0\n",
    "\n",
    "for row in show_posts:\n",
    "    num_comments = int(row[4])\n",
    "    total_show_comments += num_comments\n",
    "\n",
    "avg_ask_comments = total_ask_comments / len(ask_posts)\n",
    "avg_show_comments = total_show_comments / len(show_posts)\n",
    "\n",
    "print(\"Average ask post comments:\", avg_ask_comments)\n",
    "print(\"Average show post comments:\", avg_show_comments)\n"
   ]
  },
  {
   "cell_type": "markdown",
   "metadata": {},
   "source": [
    "Ask posts on average have 14 comments while show posts have on average 10 comments.\n",
    "\n",
    "#### Ref. page 5\n",
    "\n",
    "Moving on, the next phase of analysis will focus on ask posts and determine if there are any trends based on the hour of day these are posted.\n",
    "\n",
    "The code below populates two dictionaries.  One listing the number of posts submitted per hour, the other listing the total comments for these posts."
   ]
  },
  {
   "cell_type": "code",
   "execution_count": 10,
   "metadata": {
    "collapsed": false
   },
   "outputs": [],
   "source": [
    "import datetime as dt\n",
    "\n",
    "result_list = []\n",
    "\n",
    "for row in ask_posts:\n",
    "    created_at = row[6]\n",
    "    num_comments = int(row[4])\n",
    "    result_list.append([created_at, num_comments])\n",
    "\n",
    "counts_by_hour = {}\n",
    "comments_by_hour = {}\n",
    "\n",
    "for row in result_list:\n",
    "    date_str = row[0]\n",
    "    date = dt.datetime.strptime(date_str, \"%m/%d/%Y %H:%M\")\n",
    "    hour = dt.datetime.strftime(date,\"%H\")\n",
    "    comments = row[1]\n",
    "    if hour not in counts_by_hour:\n",
    "        counts_by_hour[hour] = 1\n",
    "        comments_by_hour[hour] = comments\n",
    "    else:\n",
    "        counts_by_hour[hour] += 1\n",
    "        comments_by_hour[hour] += comments"
   ]
  },
  {
   "cell_type": "code",
   "execution_count": 11,
   "metadata": {
    "collapsed": false
   },
   "outputs": [
    {
     "name": "stdout",
     "output_type": "stream",
     "text": [
      "{'12': 73, '00': 55, '19': 112, '17': 100, '06': 44, '18': 109, '15': 116, '21': 109, '16': 109, '09': 45, '10': 60, '23': 70, '07': 34, '11': 58, '08': 48, '22': 71, '13': 86, '14': 110, '02': 58, '04': 48, '03': 55, '20': 80, '01': 60, '05': 46}\n",
      "{'12': 687, '00': 447, '19': 1295, '17': 1146, '06': 397, '18': 1439, '15': 4477, '21': 1745, '16': 1949, '09': 251, '10': 794, '23': 713, '07': 267, '11': 641, '08': 492, '22': 479, '13': 1254, '14': 1420, '02': 1381, '04': 339, '03': 459, '20': 1722, '01': 683, '05': 464}\n"
     ]
    }
   ],
   "source": [
    "# View the dictionaries\n",
    "print(counts_by_hour)\n",
    "print(comments_by_hour)"
   ]
  },
  {
   "cell_type": "markdown",
   "metadata": {
    "collapsed": true
   },
   "source": [
    "#### Ref. page 6\n",
    "\n",
    "We now want to determine the average comments per post for each hour of the day. \n",
    "\n",
    "Below we create a list of lists in which the first element is the hour, and the second element is the average number of comments per post."
   ]
  },
  {
   "cell_type": "code",
   "execution_count": 14,
   "metadata": {
    "collapsed": false
   },
   "outputs": [],
   "source": [
    "avg_by_hour = []\n",
    "\n",
    "for hour in counts_by_hour:\n",
    "    avg_by_hour.append([hour, comments_by_hour[hour] / counts_by_hour[hour]])"
   ]
  },
  {
   "cell_type": "code",
   "execution_count": 15,
   "metadata": {
    "collapsed": false
   },
   "outputs": [
    {
     "name": "stdout",
     "output_type": "stream",
     "text": [
      "[['12', 9.41095890410959], ['00', 8.127272727272727], ['19', 11.5625], ['17', 11.46], ['06', 9.022727272727273], ['18', 13.20183486238532], ['15', 38.5948275862069], ['21', 16.009174311926607], ['16', 17.880733944954127], ['09', 5.5777777777777775], ['10', 13.233333333333333], ['23', 10.185714285714285], ['07', 7.852941176470588], ['11', 11.051724137931034], ['08', 10.25], ['22', 6.746478873239437], ['13', 14.581395348837209], ['14', 12.909090909090908], ['02', 23.810344827586206], ['04', 7.0625], ['03', 8.345454545454546], ['20', 21.525], ['01', 11.383333333333333], ['05', 10.08695652173913]]\n"
     ]
    }
   ],
   "source": [
    "# View the resultant list\n",
    "print(avg_by_hour)"
   ]
  },
  {
   "cell_type": "markdown",
   "metadata": {},
   "source": [
    "#### Ref. page 7\n",
    "\n",
    "To pretty things up we will format our list so that we print the five hours with the highest average posts per comment."
   ]
  },
  {
   "cell_type": "code",
   "execution_count": 16,
   "metadata": {
    "collapsed": true
   },
   "outputs": [],
   "source": [
    "swap_avg_by_hour = []\n",
    "\n",
    "for row in avg_by_hour:\n",
    "    avg = row[1]\n",
    "    hour = row[0]\n",
    "    swap_avg_by_hour.append([avg, hour])"
   ]
  },
  {
   "cell_type": "code",
   "execution_count": 17,
   "metadata": {
    "collapsed": false
   },
   "outputs": [
    {
     "name": "stdout",
     "output_type": "stream",
     "text": [
      "[[9.41095890410959, '12'], [8.127272727272727, '00'], [11.5625, '19'], [11.46, '17'], [9.022727272727273, '06'], [13.20183486238532, '18'], [38.5948275862069, '15'], [16.009174311926607, '21'], [17.880733944954127, '16'], [5.5777777777777775, '09'], [13.233333333333333, '10'], [10.185714285714285, '23'], [7.852941176470588, '07'], [11.051724137931034, '11'], [10.25, '08'], [6.746478873239437, '22'], [14.581395348837209, '13'], [12.909090909090908, '14'], [23.810344827586206, '02'], [7.0625, '04'], [8.345454545454546, '03'], [21.525, '20'], [11.383333333333333, '01'], [10.08695652173913, '05']]\n"
     ]
    }
   ],
   "source": [
    "print(swap_avg_by_hour)"
   ]
  },
  {
   "cell_type": "code",
   "execution_count": 18,
   "metadata": {
    "collapsed": true
   },
   "outputs": [],
   "source": [
    "sorted_swap = sorted(swap_avg_by_hour, reverse = True)"
   ]
  },
  {
   "cell_type": "code",
   "execution_count": 19,
   "metadata": {
    "collapsed": false
   },
   "outputs": [
    {
     "name": "stdout",
     "output_type": "stream",
     "text": [
      "[[38.5948275862069, '15'], [23.810344827586206, '02'], [21.525, '20'], [17.880733944954127, '16'], [16.009174311926607, '21'], [14.581395348837209, '13'], [13.233333333333333, '10'], [13.20183486238532, '18'], [12.909090909090908, '14'], [11.5625, '19'], [11.46, '17'], [11.383333333333333, '01'], [11.051724137931034, '11'], [10.25, '08'], [10.185714285714285, '23'], [10.08695652173913, '05'], [9.41095890410959, '12'], [9.022727272727273, '06'], [8.345454545454546, '03'], [8.127272727272727, '00'], [7.852941176470588, '07'], [7.0625, '04'], [6.746478873239437, '22'], [5.5777777777777775, '09']]\n"
     ]
    }
   ],
   "source": [
    "print(sorted_swap)"
   ]
  },
  {
   "cell_type": "code",
   "execution_count": 57,
   "metadata": {
    "collapsed": false
   },
   "outputs": [
    {
     "name": "stdout",
     "output_type": "stream",
     "text": [
      "15:00: 38.59 average comments per post\n",
      "02:00: 23.81 average comments per post\n",
      "20:00: 21.52 average comments per post\n",
      "16:00: 17.88 average comments per post\n",
      "21:00: 16.01 average comments per post\n"
     ]
    }
   ],
   "source": [
    "for row in range(5):\n",
    "    hour = dt.datetime.strptime(sorted_swap[row][1], \"%H\")\n",
    "    fmtd_hour = dt.datetime.strftime(hour, \"%R\")\n",
    "    print(\"{}: {:.2f} average comments per post\".format(fmtd_hour, sorted_swap[row][0]))\n",
    "    "
   ]
  },
  {
   "cell_type": "markdown",
   "metadata": {},
   "source": [
    "This small piece of analysis set out to answer the following two questions in relation to Hacker News posts:\n",
    "1. Do *ask* or *show* posts receive more comments on average?\n",
    "2. Do posts created at a certain time receive more comments on average?\n",
    "\n",
    "Based on the above analysis, we can conclude that posting an *ask* question will on average receive more comments than a *show* post.\n",
    "\n",
    "Further, posting these *ask* comments at 3 o'clock in the afternoon will illicit more comments than at other times of the day.\n",
    "\n",
    "Looks like it's the afternoon lull that has techies commenting on Hacker News....."
   ]
  }
 ],
 "metadata": {
  "kernelspec": {
   "display_name": "Python 3",
   "language": "python",
   "name": "python3"
  },
  "language_info": {
   "codemirror_mode": {
    "name": "ipython",
    "version": 3
   },
   "file_extension": ".py",
   "mimetype": "text/x-python",
   "name": "python",
   "nbconvert_exporter": "python",
   "pygments_lexer": "ipython3",
   "version": "3.4.3"
  }
 },
 "nbformat": 4,
 "nbformat_minor": 2
}
